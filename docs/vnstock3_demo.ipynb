{
 "cells": [
  {
   "cell_type": "markdown",
   "metadata": {},
   "source": [
    "# Cài đặt"
   ]
  },
  {
   "cell_type": "code",
   "execution_count": null,
   "metadata": {},
   "outputs": [],
   "source": [
    "!pip install -U vnstock"
   ]
  },
  {
   "cell_type": "markdown",
   "metadata": {},
   "source": [
    "# Khởi động"
   ]
  },
  {
   "cell_type": "markdown",
   "metadata": {},
   "source": [
    "## Nạp thư viện lần đầu"
   ]
  },
  {
   "cell_type": "markdown",
   "metadata": {},
   "source": [
    "> Bạn có thể nạp toàn bộ các module của thư viện vào môi trường làm việc nếu chưa biết rõ mình cần gì hoặc chọn từng module riêng biệt để nạp vào khi đã quen thuộc."
   ]
  },
  {
   "cell_type": "code",
   "execution_count": null,
   "metadata": {},
   "outputs": [],
   "source": [
    "## Nạp toàn bộ thư viện\n",
    "# from vnstock3 import *\n",
    "\n",
    "# Nạp Wrapper làm việc chính (UI chính của thư viện)\n",
    "from vnstock3 import Vnstock"
   ]
  },
  {
   "cell_type": "markdown",
   "metadata": {},
   "source": [
    "## Auto chấp nhận thoả thuận người dùng"
   ]
  },
  {
   "cell_type": "markdown",
   "metadata": {},
   "source": [
    "Trong trường hợp bạn sử dụng Vnstock3 trên Google Colab, việc hiển thị thoả thuận người dùng mỗi lần khởi động phiên làm việc có thể khiến bạn phiền lòng, hãy đặt đoạn code này vào notebook để tự động chấp nhận và bỏ qua bước yêu cầu chấp nhận thoả thuận sử dụng."
   ]
  },
  {
   "cell_type": "code",
   "execution_count": null,
   "metadata": {},
   "outputs": [],
   "source": [
    "import os\n",
    "if \"ACCEPT_TC\" not in os.environ:\n",
    "    os.environ[\"ACCEPT_TC\"] = \"tôi đồng ý\""
   ]
  }
 ],
 "metadata": {
  "kernelspec": {
   "display_name": "Python 3",
   "language": "python",
   "name": "python3"
  },
  "language_info": {
   "codemirror_mode": {
    "name": "ipython",
    "version": 3
   },
   "file_extension": ".py",
   "mimetype": "text/x-python",
   "name": "python",
   "nbconvert_exporter": "python",
   "pygments_lexer": "ipython3",
   "version": "3.10.0rc2"
  }
 },
 "nbformat": 4,
 "nbformat_minor": 2
}
