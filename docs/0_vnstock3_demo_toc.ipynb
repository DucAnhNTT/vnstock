{
 "cells": [
  {
   "cell_type": "markdown",
   "metadata": {},
   "source": [
    "# Mục lục"
   ]
  },
  {
   "cell_type": "markdown",
   "metadata": {},
   "source": [
    "1. Chứng khoán Việt Nam\n",
    "2. Chứng khoán quốc tế: Forex, Crypto, Chỉ số\n",
    "3. Dữ liệu Thị trường, hàng hoá\n",
    "4. Kết nối API chính thức từ Cty chứng khoán\n",
    "5. Biểu diễn dữ liệu trực quan từ Vnstock3"
   ]
  },
  {
   "cell_type": "code",
   "execution_count": null,
   "metadata": {},
   "outputs": [],
   "source": []
  }
 ],
 "metadata": {
  "language_info": {
   "name": "python"
  }
 },
 "nbformat": 4,
 "nbformat_minor": 2
}
